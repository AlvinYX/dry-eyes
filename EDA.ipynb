{
 "cells": [
  {
   "metadata": {},
   "cell_type": "markdown",
   "source": [
    "#### EDA\n",
    "Import database"
   ],
   "id": "4aec57aa09a9159b"
  },
  {
   "metadata": {
    "ExecuteTime": {
     "end_time": "2025-03-01T22:34:49.826771Z",
     "start_time": "2025-03-01T22:34:49.697345Z"
    }
   },
   "cell_type": "code",
   "source": [
    "import pandas as pd\n",
    "\n",
    "df = pd.read_csv(\"Dry_Eye_Dataset.csv\")\n"
   ],
   "id": "c7f8d7e39168f181",
   "outputs": [],
   "execution_count": 2
  },
  {
   "metadata": {},
   "cell_type": "markdown",
   "source": "Summaries",
   "id": "d9218818375d75cf"
  },
  {
   "metadata": {
    "ExecuteTime": {
     "end_time": "2025-03-01T22:48:30.702937Z",
     "start_time": "2025-03-01T22:48:30.683498Z"
    }
   },
   "cell_type": "code",
   "source": [
    "print(df.head())\n",
    "print(df.describe())"
   ],
   "id": "cad1dbd95906da82",
   "outputs": [
    {
     "name": "stdout",
     "output_type": "stream",
     "text": [
      "  Gender  Age  Sleep duration  Sleep quality  Stress level Blood pressure  \\\n",
      "0      F   24             9.5              2             1         137/89   \n",
      "1      M   39             9.6              2             3         108/64   \n",
      "2      F   45             5.4              1             5         134/81   \n",
      "3      F   45             5.4              4             5         110/90   \n",
      "4      F   42             5.7              3             2          99/67   \n",
      "\n",
      "   Heart rate  Daily steps  Physical activity  Height  ...  Smoking  \\\n",
      "0          67         3000                 31     161  ...        N   \n",
      "1          60        12000                 74     164  ...        N   \n",
      "2          95        12000                 93     179  ...        N   \n",
      "3          78        19000                 32     160  ...        N   \n",
      "4          72         4000                173     179  ...        N   \n",
      "\n",
      "  Medical issue Ongoing medication Smart device before bed  \\\n",
      "0             Y                  Y                       N   \n",
      "1             Y                  Y                       N   \n",
      "2             N                  N                       Y   \n",
      "3             Y                  N                       N   \n",
      "4             Y                  N                       N   \n",
      "\n",
      "  Average screen time Blue-light filter Discomfort Eye-strain Redness in eye  \\\n",
      "0                 8.7                 N                     Y              Y   \n",
      "1                 9.6                 Y                     N              N   \n",
      "2                 4.0                 N                     Y              N   \n",
      "3                 7.6                 N                     Y              N   \n",
      "4                 3.5                 N                     Y              Y   \n",
      "\n",
      "  Itchiness/Irritation in eye Dry Eye Disease  \n",
      "0                           N               Y  \n",
      "1                           Y               Y  \n",
      "2                           N               N  \n",
      "3                           Y               N  \n",
      "4                           N               Y  \n",
      "\n",
      "[5 rows x 26 columns]\n",
      "                Age  Sleep duration  Sleep quality  Stress level  \\\n",
      "count  20000.000000    20000.000000   20000.000000  20000.000000   \n",
      "mean      31.422800        6.998245       2.997250      2.993750   \n",
      "std        8.103717        1.731723       1.412283      1.407235   \n",
      "min       18.000000        4.000000       1.000000      1.000000   \n",
      "25%       24.000000        5.500000       2.000000      2.000000   \n",
      "50%       31.000000        7.000000       3.000000      3.000000   \n",
      "75%       39.000000        8.500000       4.000000      4.000000   \n",
      "max       45.000000       10.000000       5.000000      5.000000   \n",
      "\n",
      "         Heart rate   Daily steps  Physical activity        Height  \\\n",
      "count  20000.000000  20000.000000       20000.000000  20000.000000   \n",
      "mean      79.912200  10536.900000          90.069750    174.865900   \n",
      "std       11.808279   5752.729186          52.317283     14.719903   \n",
      "min       60.000000   1000.000000           0.000000    150.000000   \n",
      "25%       70.000000   6000.000000          45.000000    162.000000   \n",
      "50%       80.000000  11000.000000          91.000000    175.000000   \n",
      "75%       90.000000  16000.000000         135.000000    188.000000   \n",
      "max      100.000000  20000.000000         180.000000    200.000000   \n",
      "\n",
      "             Weight  Average screen time  \n",
      "count  20000.000000         20000.000000  \n",
      "mean      74.891850             5.519885  \n",
      "std       14.733839             2.606305  \n",
      "min       50.000000             1.000000  \n",
      "25%       62.000000             3.300000  \n",
      "50%       75.000000             5.500000  \n",
      "75%       88.000000             7.800000  \n",
      "max      100.000000            10.000000  \n"
     ]
    }
   ],
   "execution_count": 6
  },
  {
   "metadata": {
    "ExecuteTime": {
     "end_time": "2025-03-01T22:48:52.215212Z",
     "start_time": "2025-03-01T22:48:52.180375Z"
    }
   },
   "cell_type": "code",
   "source": "print(df.describe(include='all'))",
   "id": "ea9262daa708f014",
   "outputs": [
    {
     "name": "stdout",
     "output_type": "stream",
     "text": [
      "       Gender           Age  Sleep duration  Sleep quality  Stress level  \\\n",
      "count   20000  20000.000000    20000.000000   20000.000000  20000.000000   \n",
      "unique      2           NaN             NaN            NaN           NaN   \n",
      "top         M           NaN             NaN            NaN           NaN   \n",
      "freq    10028           NaN             NaN            NaN           NaN   \n",
      "mean      NaN     31.422800        6.998245       2.997250      2.993750   \n",
      "std       NaN      8.103717        1.731723       1.412283      1.407235   \n",
      "min       NaN     18.000000        4.000000       1.000000      1.000000   \n",
      "25%       NaN     24.000000        5.500000       2.000000      2.000000   \n",
      "50%       NaN     31.000000        7.000000       3.000000      3.000000   \n",
      "75%       NaN     39.000000        8.500000       4.000000      4.000000   \n",
      "max       NaN     45.000000       10.000000       5.000000      5.000000   \n",
      "\n",
      "       Blood pressure    Heart rate   Daily steps  Physical activity  \\\n",
      "count           20000  20000.000000  20000.000000       20000.000000   \n",
      "unique           1581           NaN           NaN                NaN   \n",
      "top            109/73           NaN           NaN                NaN   \n",
      "freq               27           NaN           NaN                NaN   \n",
      "mean              NaN     79.912200  10536.900000          90.069750   \n",
      "std               NaN     11.808279   5752.729186          52.317283   \n",
      "min               NaN     60.000000   1000.000000           0.000000   \n",
      "25%               NaN     70.000000   6000.000000          45.000000   \n",
      "50%               NaN     80.000000  11000.000000          91.000000   \n",
      "75%               NaN     90.000000  16000.000000         135.000000   \n",
      "max               NaN    100.000000  20000.000000         180.000000   \n",
      "\n",
      "              Height  ...  Smoking Medical issue Ongoing medication  \\\n",
      "count   20000.000000  ...    20000         20000              20000   \n",
      "unique           NaN  ...        2             2                  2   \n",
      "top              NaN  ...        N             N                  Y   \n",
      "freq             NaN  ...    10017         10111              10082   \n",
      "mean      174.865900  ...      NaN           NaN                NaN   \n",
      "std        14.719903  ...      NaN           NaN                NaN   \n",
      "min       150.000000  ...      NaN           NaN                NaN   \n",
      "25%       162.000000  ...      NaN           NaN                NaN   \n",
      "50%       175.000000  ...      NaN           NaN                NaN   \n",
      "75%       188.000000  ...      NaN           NaN                NaN   \n",
      "max       200.000000  ...      NaN           NaN                NaN   \n",
      "\n",
      "       Smart device before bed Average screen time Blue-light filter  \\\n",
      "count                    20000        20000.000000             20000   \n",
      "unique                       2                 NaN                 2   \n",
      "top                          Y                 NaN                 N   \n",
      "freq                     10003                 NaN             10016   \n",
      "mean                       NaN            5.519885               NaN   \n",
      "std                        NaN            2.606305               NaN   \n",
      "min                        NaN            1.000000               NaN   \n",
      "25%                        NaN            3.300000               NaN   \n",
      "50%                        NaN            5.500000               NaN   \n",
      "75%                        NaN            7.800000               NaN   \n",
      "max                        NaN           10.000000               NaN   \n",
      "\n",
      "       Discomfort Eye-strain Redness in eye Itchiness/Irritation in eye  \\\n",
      "count                  20000          20000                       20000   \n",
      "unique                     2              2                           2   \n",
      "top                        Y              N                           N   \n",
      "freq                   10037          10129                       10063   \n",
      "mean                     NaN            NaN                         NaN   \n",
      "std                      NaN            NaN                         NaN   \n",
      "min                      NaN            NaN                         NaN   \n",
      "25%                      NaN            NaN                         NaN   \n",
      "50%                      NaN            NaN                         NaN   \n",
      "75%                      NaN            NaN                         NaN   \n",
      "max                      NaN            NaN                         NaN   \n",
      "\n",
      "       Dry Eye Disease  \n",
      "count            20000  \n",
      "unique               2  \n",
      "top                  Y  \n",
      "freq             13037  \n",
      "mean               NaN  \n",
      "std                NaN  \n",
      "min                NaN  \n",
      "25%                NaN  \n",
      "50%                NaN  \n",
      "75%                NaN  \n",
      "max                NaN  \n",
      "\n",
      "[11 rows x 26 columns]\n"
     ]
    }
   ],
   "execution_count": 7
  },
  {
   "metadata": {},
   "cell_type": "markdown",
   "source": [
    "#### Clean data\n",
    "Assign a value of 1 to all the entries that have 'Y' and 0 to all the entries that have 'N'. Essentially, we want to convert factor variables into numerical variables. We also want to convert the gender variables to integers, assign 1 to male and 0 to females. Lastly, we would like to separate into two separate variables, we want the number before the '/' to be in a systolic blood pressure column, and the number that comes after in a diastolic blood pressure column."
   ],
   "id": "1f170fa464e3d107"
  },
  {
   "cell_type": "code",
   "id": "initial_id",
   "metadata": {
    "collapsed": true,
    "ExecuteTime": {
     "end_time": "2025-03-01T22:56:03.837611Z",
     "start_time": "2025-03-01T22:56:03.829248Z"
    }
   },
   "source": "transformed_df = df.copy()",
   "outputs": [],
   "execution_count": 8
  },
  {
   "metadata": {},
   "cell_type": "markdown",
   "source": "Globally convert 'Y' and 'N' variables to numeric factors.",
   "id": "f19bb6c5760a9abf"
  },
  {
   "metadata": {
    "ExecuteTime": {
     "end_time": "2025-03-01T22:56:15.381078Z",
     "start_time": "2025-03-01T22:56:15.335533Z"
    }
   },
   "cell_type": "code",
   "source": [
    "# Replace all occurrences of 'Y' with 1 and 'N' with 0 in the entire DataFrame\n",
    "transformed_df = transformed_df.replace({'Y': 1, 'N': 0})\n",
    "\n",
    "print(transformed_df.head())"
   ],
   "id": "91342a7255192d19",
   "outputs": [
    {
     "name": "stdout",
     "output_type": "stream",
     "text": [
      "  Gender  Age  Sleep duration  Sleep quality  Stress level Blood pressure  \\\n",
      "0      F   24             9.5              2             1         137/89   \n",
      "1      M   39             9.6              2             3         108/64   \n",
      "2      F   45             5.4              1             5         134/81   \n",
      "3      F   45             5.4              4             5         110/90   \n",
      "4      F   42             5.7              3             2          99/67   \n",
      "\n",
      "   Heart rate  Daily steps  Physical activity  Height  ...  Smoking  \\\n",
      "0          67         3000                 31     161  ...        0   \n",
      "1          60        12000                 74     164  ...        0   \n",
      "2          95        12000                 93     179  ...        0   \n",
      "3          78        19000                 32     160  ...        0   \n",
      "4          72         4000                173     179  ...        0   \n",
      "\n",
      "   Medical issue  Ongoing medication  Smart device before bed  \\\n",
      "0              1                   1                        0   \n",
      "1              1                   1                        0   \n",
      "2              0                   0                        1   \n",
      "3              1                   0                        0   \n",
      "4              1                   0                        0   \n",
      "\n",
      "   Average screen time  Blue-light filter  Discomfort Eye-strain  \\\n",
      "0                  8.7                  0                      1   \n",
      "1                  9.6                  1                      0   \n",
      "2                  4.0                  0                      1   \n",
      "3                  7.6                  0                      1   \n",
      "4                  3.5                  0                      1   \n",
      "\n",
      "   Redness in eye  Itchiness/Irritation in eye  Dry Eye Disease  \n",
      "0               1                            0                1  \n",
      "1               0                            1                1  \n",
      "2               0                            0                0  \n",
      "3               0                            1                0  \n",
      "4               1                            0                1  \n",
      "\n",
      "[5 rows x 26 columns]\n"
     ]
    },
    {
     "name": "stderr",
     "output_type": "stream",
     "text": [
      "/tmp/ipykernel_11273/3499094553.py:2: FutureWarning: Downcasting behavior in `replace` is deprecated and will be removed in a future version. To retain the old behavior, explicitly call `result.infer_objects(copy=False)`. To opt-in to the future behavior, set `pd.set_option('future.no_silent_downcasting', True)`\n",
      "  transformed_df = transformed_df.replace({'Y': 1, 'N': 0})\n"
     ]
    }
   ],
   "execution_count": 9
  },
  {
   "metadata": {
    "ExecuteTime": {
     "end_time": "2025-03-01T23:23:48.951842Z",
     "start_time": "2025-03-01T23:23:48.920571Z"
    }
   },
   "cell_type": "code",
   "source": [
    "# Convert gender variables: mapping 'M' to 1 and 'F' to 0.\n",
    "# Replace 'Gender' with your actual gender column name.\n",
    "transformed_df['gender_numeric'] = transformed_df['Gender'].map({'M': 1, 'F': 0})\n",
    "\n",
    "# Split the blood pressure column into systolic and diastolic columns.\n",
    "# Replace 'Blood pressure' with the actual column name containing values like \"120/80\".\n",
    "transformed_df[['systolic_bp', 'diastolic_bp']] = transformed_df['Blood pressure'].str.split('/', expand=True)\n",
    "\n",
    "# Convert the new blood pressure columns to numeric data types.\n",
    "transformed_df['systolic_bp'] = pd.to_numeric(transformed_df['systolic_bp'])\n",
    "transformed_df['diastolic_bp'] = pd.to_numeric(transformed_df['diastolic_bp'])"
   ],
   "id": "e331b03159e1abef",
   "outputs": [],
   "execution_count": 12
  }
 ],
 "metadata": {
  "kernelspec": {
   "display_name": "Python 3",
   "language": "python",
   "name": "python3"
  },
  "language_info": {
   "codemirror_mode": {
    "name": "ipython",
    "version": 2
   },
   "file_extension": ".py",
   "mimetype": "text/x-python",
   "name": "python",
   "nbconvert_exporter": "python",
   "pygments_lexer": "ipython2",
   "version": "2.7.6"
  }
 },
 "nbformat": 4,
 "nbformat_minor": 5
}
