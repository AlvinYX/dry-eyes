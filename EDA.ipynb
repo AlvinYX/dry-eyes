{
 "cells": [
  {
   "metadata": {},
   "cell_type": "markdown",
   "source": [
    "### Transform CSV\n",
    "Creating a modified CSV file with indicator variables (IVs) that represent categorical variables and splits the blood pressure data for easier analysis."
   ],
   "id": "f1796ff793e3a892"
  },
  {
   "metadata": {
    "ExecuteTime": {
     "end_time": "2025-03-09T04:15:55.207982Z",
     "start_time": "2025-03-09T04:15:54.883518Z"
    }
   },
   "cell_type": "code",
   "source": [
    "import pandas as pd\n",
    "\n",
    "def clean_dry_eye_dataset(input_file, output_file):\n",
    "        df = pd.read_csv(input_file)\n",
    "        \n",
    "        # Generate IVs for us.\n",
    "        df.replace({'Y': 1, 'N': 0}, inplace=True)\n",
    "        df.replace({'M': 1, 'F': 0}, inplace=True)\n",
    "    \n",
    "        # Split 'Blood pressure' column into 'Systolic' and 'Diastolic'\n",
    "        if 'Blood pressure' in df.columns:\n",
    "            # A neat Pandas trick that uses string split to split into two columns\n",
    "            df[['systolic_bp', 'diastolic_bp']] = df['Blood pressure'].str.split('/', expand=True)\n",
    "            # Removing extra column\n",
    "            df.drop(columns=['Blood pressure'], inplace=True)\n",
    "        \n",
    "        # Save the modified dataset, we aren't interested in indexing.\n",
    "        df.to_csv(output_file, index=False)\n",
    "        print(f\"Modified dataset saved to {output_file}\")\n",
    "\n",
    "input_file = \"Dry_Eye_Dataset.csv\"\n",
    "output_file = \"Dry_Eye_Dataset_mod.csv\"\n",
    "clean_dry_eye_dataset(input_file, output_file)"
   ],
   "id": "756813df766d7369",
   "outputs": [
    {
     "name": "stdout",
     "output_type": "stream",
     "text": [
      "Modified dataset saved to Dry_Eye_Dataset_mod.csv\n"
     ]
    }
   ],
   "execution_count": 20
  },
  {
   "metadata": {},
   "cell_type": "markdown",
   "source": [
    "### EDA\n",
    "Import database"
   ],
   "id": "4aec57aa09a9159b"
  },
  {
   "metadata": {
    "ExecuteTime": {
     "end_time": "2025-03-08T22:43:27.678959Z",
     "start_time": "2025-03-08T22:43:27.632209Z"
    }
   },
   "cell_type": "code",
   "source": [
    "import pandas as pd\n",
    "\n",
    "df = pd.read_csv(\"Dry_Eye_Dataset.csv\")\n"
   ],
   "id": "c7f8d7e39168f181",
   "outputs": [],
   "execution_count": 2
  },
  {
   "metadata": {
    "ExecuteTime": {
     "end_time": "2025-03-08T22:43:29.000927Z",
     "start_time": "2025-03-08T22:43:28.971158Z"
    }
   },
   "cell_type": "code",
   "source": [
    "print(df.head())\n",
    "print(df.describe())"
   ],
   "id": "cad1dbd95906da82",
   "outputs": [
    {
     "name": "stdout",
     "output_type": "stream",
     "text": [
      "  Gender  Age  Sleep duration  Sleep quality  Stress level Blood pressure  \\\n",
      "0      F   24             9.5              2             1         137/89   \n",
      "1      M   39             9.6              2             3         108/64   \n",
      "2      F   45             5.4              1             5         134/81   \n",
      "3      F   45             5.4              4             5         110/90   \n",
      "4      F   42             5.7              3             2          99/67   \n",
      "\n",
      "   Heart rate  Daily steps  Physical activity  Height  ...  Smoking  \\\n",
      "0          67         3000                 31     161  ...        N   \n",
      "1          60        12000                 74     164  ...        N   \n",
      "2          95        12000                 93     179  ...        N   \n",
      "3          78        19000                 32     160  ...        N   \n",
      "4          72         4000                173     179  ...        N   \n",
      "\n",
      "  Medical issue Ongoing medication Smart device before bed  \\\n",
      "0             Y                  Y                       N   \n",
      "1             Y                  Y                       N   \n",
      "2             N                  N                       Y   \n",
      "3             Y                  N                       N   \n",
      "4             Y                  N                       N   \n",
      "\n",
      "  Average screen time Blue-light filter Discomfort Eye-strain Redness in eye  \\\n",
      "0                 8.7                 N                     Y              Y   \n",
      "1                 9.6                 Y                     N              N   \n",
      "2                 4.0                 N                     Y              N   \n",
      "3                 7.6                 N                     Y              N   \n",
      "4                 3.5                 N                     Y              Y   \n",
      "\n",
      "  Itchiness/Irritation in eye Dry Eye Disease  \n",
      "0                           N               Y  \n",
      "1                           Y               Y  \n",
      "2                           N               N  \n",
      "3                           Y               N  \n",
      "4                           N               Y  \n",
      "\n",
      "[5 rows x 26 columns]\n",
      "                Age  Sleep duration  Sleep quality  Stress level  \\\n",
      "count  20000.000000    20000.000000   20000.000000  20000.000000   \n",
      "mean      31.422800        6.998245       2.997250      2.993750   \n",
      "std        8.103717        1.731723       1.412283      1.407235   \n",
      "min       18.000000        4.000000       1.000000      1.000000   \n",
      "25%       24.000000        5.500000       2.000000      2.000000   \n",
      "50%       31.000000        7.000000       3.000000      3.000000   \n",
      "75%       39.000000        8.500000       4.000000      4.000000   \n",
      "max       45.000000       10.000000       5.000000      5.000000   \n",
      "\n",
      "         Heart rate   Daily steps  Physical activity        Height  \\\n",
      "count  20000.000000  20000.000000       20000.000000  20000.000000   \n",
      "mean      79.912200  10536.900000          90.069750    174.865900   \n",
      "std       11.808279   5752.729186          52.317283     14.719903   \n",
      "min       60.000000   1000.000000           0.000000    150.000000   \n",
      "25%       70.000000   6000.000000          45.000000    162.000000   \n",
      "50%       80.000000  11000.000000          91.000000    175.000000   \n",
      "75%       90.000000  16000.000000         135.000000    188.000000   \n",
      "max      100.000000  20000.000000         180.000000    200.000000   \n",
      "\n",
      "             Weight  Average screen time  \n",
      "count  20000.000000         20000.000000  \n",
      "mean      74.891850             5.519885  \n",
      "std       14.733839             2.606305  \n",
      "min       50.000000             1.000000  \n",
      "25%       62.000000             3.300000  \n",
      "50%       75.000000             5.500000  \n",
      "75%       88.000000             7.800000  \n",
      "max      100.000000            10.000000  \n"
     ]
    }
   ],
   "execution_count": 3
  },
  {
   "metadata": {
    "ExecuteTime": {
     "end_time": "2025-03-08T22:43:36.655585Z",
     "start_time": "2025-03-08T22:43:36.596857Z"
    }
   },
   "cell_type": "code",
   "source": "print(df.describe(include='all'))",
   "id": "ea9262daa708f014",
   "outputs": [
    {
     "name": "stdout",
     "output_type": "stream",
     "text": [
      "       Gender           Age  Sleep duration  Sleep quality  Stress level  \\\n",
      "count   20000  20000.000000    20000.000000   20000.000000  20000.000000   \n",
      "unique      2           NaN             NaN            NaN           NaN   \n",
      "top         M           NaN             NaN            NaN           NaN   \n",
      "freq    10028           NaN             NaN            NaN           NaN   \n",
      "mean      NaN     31.422800        6.998245       2.997250      2.993750   \n",
      "std       NaN      8.103717        1.731723       1.412283      1.407235   \n",
      "min       NaN     18.000000        4.000000       1.000000      1.000000   \n",
      "25%       NaN     24.000000        5.500000       2.000000      2.000000   \n",
      "50%       NaN     31.000000        7.000000       3.000000      3.000000   \n",
      "75%       NaN     39.000000        8.500000       4.000000      4.000000   \n",
      "max       NaN     45.000000       10.000000       5.000000      5.000000   \n",
      "\n",
      "       Blood pressure    Heart rate   Daily steps  Physical activity  \\\n",
      "count           20000  20000.000000  20000.000000       20000.000000   \n",
      "unique           1581           NaN           NaN                NaN   \n",
      "top            109/73           NaN           NaN                NaN   \n",
      "freq               27           NaN           NaN                NaN   \n",
      "mean              NaN     79.912200  10536.900000          90.069750   \n",
      "std               NaN     11.808279   5752.729186          52.317283   \n",
      "min               NaN     60.000000   1000.000000           0.000000   \n",
      "25%               NaN     70.000000   6000.000000          45.000000   \n",
      "50%               NaN     80.000000  11000.000000          91.000000   \n",
      "75%               NaN     90.000000  16000.000000         135.000000   \n",
      "max               NaN    100.000000  20000.000000         180.000000   \n",
      "\n",
      "              Height  ...  Smoking Medical issue Ongoing medication  \\\n",
      "count   20000.000000  ...    20000         20000              20000   \n",
      "unique           NaN  ...        2             2                  2   \n",
      "top              NaN  ...        N             N                  Y   \n",
      "freq             NaN  ...    10017         10111              10082   \n",
      "mean      174.865900  ...      NaN           NaN                NaN   \n",
      "std        14.719903  ...      NaN           NaN                NaN   \n",
      "min       150.000000  ...      NaN           NaN                NaN   \n",
      "25%       162.000000  ...      NaN           NaN                NaN   \n",
      "50%       175.000000  ...      NaN           NaN                NaN   \n",
      "75%       188.000000  ...      NaN           NaN                NaN   \n",
      "max       200.000000  ...      NaN           NaN                NaN   \n",
      "\n",
      "       Smart device before bed Average screen time Blue-light filter  \\\n",
      "count                    20000        20000.000000             20000   \n",
      "unique                       2                 NaN                 2   \n",
      "top                          Y                 NaN                 N   \n",
      "freq                     10003                 NaN             10016   \n",
      "mean                       NaN            5.519885               NaN   \n",
      "std                        NaN            2.606305               NaN   \n",
      "min                        NaN            1.000000               NaN   \n",
      "25%                        NaN            3.300000               NaN   \n",
      "50%                        NaN            5.500000               NaN   \n",
      "75%                        NaN            7.800000               NaN   \n",
      "max                        NaN           10.000000               NaN   \n",
      "\n",
      "       Discomfort Eye-strain Redness in eye Itchiness/Irritation in eye  \\\n",
      "count                  20000          20000                       20000   \n",
      "unique                     2              2                           2   \n",
      "top                        Y              N                           N   \n",
      "freq                   10037          10129                       10063   \n",
      "mean                     NaN            NaN                         NaN   \n",
      "std                      NaN            NaN                         NaN   \n",
      "min                      NaN            NaN                         NaN   \n",
      "25%                      NaN            NaN                         NaN   \n",
      "50%                      NaN            NaN                         NaN   \n",
      "75%                      NaN            NaN                         NaN   \n",
      "max                      NaN            NaN                         NaN   \n",
      "\n",
      "       Dry Eye Disease  \n",
      "count            20000  \n",
      "unique               2  \n",
      "top                  Y  \n",
      "freq             13037  \n",
      "mean               NaN  \n",
      "std                NaN  \n",
      "min                NaN  \n",
      "25%                NaN  \n",
      "50%                NaN  \n",
      "75%                NaN  \n",
      "max                NaN  \n",
      "\n",
      "[11 rows x 26 columns]\n"
     ]
    }
   ],
   "execution_count": 4
  },
  {
   "metadata": {},
   "cell_type": "markdown",
   "source": [
    "#### Clean data\n",
    "Assign a value of 1 to all the entries that have 'Y' and 0 to all the entries that have 'N'. Essentially, we want to convert factor variables into numerical variables. We also want to convert the gender variables to integers, assign 1 to male and 0 to females. Lastly, we would like to separate into two separate variables, we want the number before the '/' to be in a systolic blood pressure column, and the number that comes after in a diastolic blood pressure column."
   ],
   "id": "1f170fa464e3d107"
  },
  {
   "cell_type": "code",
   "id": "initial_id",
   "metadata": {
    "collapsed": true,
    "ExecuteTime": {
     "end_time": "2025-03-08T22:43:44.975207Z",
     "start_time": "2025-03-08T22:43:44.968478Z"
    }
   },
   "source": "transformed_df = df.copy()",
   "outputs": [],
   "execution_count": 6
  },
  {
   "metadata": {},
   "cell_type": "markdown",
   "source": "Globally convert 'Y' and 'N' variables to numeric factors.",
   "id": "f19bb6c5760a9abf"
  },
  {
   "metadata": {
    "ExecuteTime": {
     "end_time": "2025-03-08T22:43:51.540646Z",
     "start_time": "2025-03-08T22:43:51.465356Z"
    }
   },
   "cell_type": "code",
   "source": [
    "# Replace all occurrences of 'Y' with 1 and 'N' with 0 in the entire DataFrame\n",
    "transformed_df = transformed_df.replace({'Y': 1, 'N': 0})\n",
    "\n",
    "print(transformed_df.head())"
   ],
   "id": "91342a7255192d19",
   "outputs": [
    {
     "name": "stdout",
     "output_type": "stream",
     "text": [
      "  Gender  Age  Sleep duration  Sleep quality  Stress level Blood pressure  \\\n",
      "0      F   24             9.5              2             1         137/89   \n",
      "1      M   39             9.6              2             3         108/64   \n",
      "2      F   45             5.4              1             5         134/81   \n",
      "3      F   45             5.4              4             5         110/90   \n",
      "4      F   42             5.7              3             2          99/67   \n",
      "\n",
      "   Heart rate  Daily steps  Physical activity  Height  ...  Smoking  \\\n",
      "0          67         3000                 31     161  ...        0   \n",
      "1          60        12000                 74     164  ...        0   \n",
      "2          95        12000                 93     179  ...        0   \n",
      "3          78        19000                 32     160  ...        0   \n",
      "4          72         4000                173     179  ...        0   \n",
      "\n",
      "   Medical issue  Ongoing medication  Smart device before bed  \\\n",
      "0              1                   1                        0   \n",
      "1              1                   1                        0   \n",
      "2              0                   0                        1   \n",
      "3              1                   0                        0   \n",
      "4              1                   0                        0   \n",
      "\n",
      "   Average screen time  Blue-light filter  Discomfort Eye-strain  \\\n",
      "0                  8.7                  0                      1   \n",
      "1                  9.6                  1                      0   \n",
      "2                  4.0                  0                      1   \n",
      "3                  7.6                  0                      1   \n",
      "4                  3.5                  0                      1   \n",
      "\n",
      "   Redness in eye  Itchiness/Irritation in eye  Dry Eye Disease  \n",
      "0               1                            0                1  \n",
      "1               0                            1                1  \n",
      "2               0                            0                0  \n",
      "3               0                            1                0  \n",
      "4               1                            0                1  \n",
      "\n",
      "[5 rows x 26 columns]\n"
     ]
    }
   ],
   "execution_count": 7
  },
  {
   "metadata": {
    "ExecuteTime": {
     "end_time": "2025-03-08T22:45:10.192850Z",
     "start_time": "2025-03-08T22:45:10.144566Z"
    }
   },
   "cell_type": "code",
   "source": [
    "# Convert gender variables: mapping 'M' to 1 and 'F' to 0.\n",
    "transformed_df['gender_numeric'] = transformed_df['Gender'].map({'M': 1, 'F': 0})\n",
    "\n",
    "# Split the blood pressure column into systolic and diastolic columns.\n",
    "transformed_df[['systolic_bp', 'diastolic_bp']] = transformed_df['Blood pressure'].str.split('/', expand=True)\n",
    "\n",
    "# Convert the new blood pressure columns to numeric data types.\n",
    "transformed_df['systolic_bp'] = pd.to_numeric(transformed_df['systolic_bp'])\n",
    "transformed_df['diastolic_bp'] = pd.to_numeric(transformed_df['diastolic_bp'])"
   ],
   "id": "e331b03159e1abef",
   "outputs": [],
   "execution_count": 10
  },
  {
   "metadata": {},
   "cell_type": "markdown",
   "source": "### Principal Component Analysis",
   "id": "5e7207a4f6d6ffbf"
  },
  {
   "metadata": {
    "ExecuteTime": {
     "end_time": "2025-03-08T22:56:53.110722Z",
     "start_time": "2025-03-08T22:56:49.689131Z"
    }
   },
   "cell_type": "code",
   "source": [
    "import pandas as pd\n",
    "from sklearn.decomposition import PCA\n",
    "from sklearn.preprocessing import StandardScaler\n",
    "\n",
    "# We are trying to predict \"Dry Eye Disease\"\n",
    "X = transformed_df.drop(columns=[\"Dry Eye Disease\", \"Gender\", \"Blood pressure\"])\n",
    "y = transformed_df[\"Dry Eye Disease\"]\n",
    "\n",
    "# Standardize the predictors, as PCA is sensitive to the scale of your variables.\n",
    "scaler = StandardScaler()\n",
    "X_scaled = scaler.fit_transform(X)\n",
    "\n",
    "# Perform PCA on the scaled predictors.\n",
    "pca = PCA()\n",
    "X_pca = pca.fit_transform(X_scaled)\n",
    "\n",
    "# Create a DataFrame for the PCA loadings (components)\n",
    "pca_components = pd.DataFrame(pca.components_, columns=X.columns)\n",
    "print(\"PCA Components (Loadings):\")\n",
    "print(pca_components)\n",
    "\n",
    "# Print explained variance ratio for each component.\n",
    "print(\"\\nExplained Variance Ratio:\")\n",
    "print(pca.explained_variance_ratio_)\n",
    "\n",
    "# PC1 loadings sorted by highest weighted variable\n",
    "pc1_loadings = pca_components.iloc[0]\n",
    "print(\"\\nFirst Principal Component Loadings (sorted):\")\n",
    "print(pc1_loadings.abs().sort_values(ascending=False))\n"
   ],
   "id": "fd1c234ef715f065",
   "outputs": [
    {
     "name": "stdout",
     "output_type": "stream",
     "text": [
      "PCA Components (Loadings):\n",
      "         Age  Sleep duration  Sleep quality  Stress level  Heart rate  \\\n",
      "0   0.066200        0.082362       0.068077      0.158144    0.075822   \n",
      "1   0.232373        0.199043       0.352571      0.085893   -0.421882   \n",
      "2   0.077579       -0.090958       0.083335      0.008636    0.060524   \n",
      "3  -0.368346        0.416523      -0.035515     -0.141459   -0.245838   \n",
      "4  -0.415938       -0.119564       0.109853      0.184867   -0.033717   \n",
      "5  -0.041317       -0.243027       0.043932     -0.069841    0.369736   \n",
      "6   0.234328       -0.107496       0.095290      0.247676   -0.030461   \n",
      "7  -0.124927       -0.274362       0.067546     -0.006957    0.138547   \n",
      "8   0.004620       -0.069111      -0.177726     -0.370670    0.093860   \n",
      "9  -0.097922       -0.040763       0.134400     -0.337241    0.051400   \n",
      "10 -0.191050       -0.372935       0.356628     -0.118709    0.008471   \n",
      "11  0.004114       -0.025821      -0.233765      0.278496   -0.180571   \n",
      "12  0.171478        0.208979      -0.041544     -0.283178   -0.158196   \n",
      "13  0.113029        0.040069       0.223007     -0.288548   -0.118171   \n",
      "14  0.191010        0.155816      -0.470359      0.058246    0.231545   \n",
      "15  0.140353        0.175052       0.283026     -0.005651    0.352501   \n",
      "16  0.179476       -0.071851       0.105385      0.255645   -0.158948   \n",
      "17 -0.064006       -0.003860       0.080835      0.014837   -0.028640   \n",
      "18 -0.080545        0.124593       0.024413      0.290116    0.070637   \n",
      "19  0.280046       -0.029153       0.276316     -0.068877    0.044627   \n",
      "20  0.062419       -0.311776      -0.011148      0.312688   -0.112931   \n",
      "21 -0.156569        0.009425       0.156232     -0.025024    0.130724   \n",
      "22  0.259485       -0.311012      -0.282658     -0.135114    0.008445   \n",
      "23  0.232764        0.148582       0.039199     -0.053616    0.214580   \n",
      "24  0.180264        0.262662       0.224324      0.168804    0.373735   \n",
      "25 -0.326444        0.242117      -0.007767      0.186861    0.290708   \n",
      "\n",
      "    Daily steps  Physical activity    Height    Weight  Sleep disorder  ...  \\\n",
      "0      0.106892           0.073521 -0.294472  0.162038        0.076051  ...   \n",
      "1     -0.079007          -0.253640  0.179992 -0.026276        0.049532  ...   \n",
      "2     -0.306433          -0.067099  0.298542  0.086651       -0.234718  ...   \n",
      "3      0.017696           0.098253  0.101089 -0.068814        0.365307  ...   \n",
      "4     -0.059427          -0.062721  0.128544  0.101807       -0.048565  ...   \n",
      "5     -0.192785          -0.394648  0.067698 -0.448210        0.237422  ...   \n",
      "6      0.039833           0.107765  0.046787  0.299261       -0.244255  ...   \n",
      "7      0.005913           0.189265  0.116271  0.002309       -0.040582  ...   \n",
      "8      0.373961          -0.040583 -0.229514  0.118676       -0.085037  ...   \n",
      "9     -0.253627           0.234038  0.251249  0.347966        0.040569  ...   \n",
      "10     0.228008           0.091279 -0.146753 -0.113112       -0.219792  ...   \n",
      "11    -0.155833           0.221861 -0.215546 -0.127367       -0.249577  ...   \n",
      "12     0.222299           0.044245  0.222364 -0.127636       -0.251690  ...   \n",
      "13    -0.083643          -0.449026 -0.200184  0.162373       -0.197560  ...   \n",
      "14    -0.039085          -0.014999  0.114362 -0.151252       -0.224642  ...   \n",
      "15     0.190620          -0.026573  0.025168 -0.026301       -0.202482  ...   \n",
      "16     0.263866          -0.028765  0.075520 -0.393688        0.067298  ...   \n",
      "17     0.550287           0.023484  0.179987 -0.031570        0.118142  ...   \n",
      "18     0.171494           0.024750  0.346151  0.165070       -0.146561  ...   \n",
      "19    -0.103370           0.534476 -0.208763 -0.100760        0.256168  ...   \n",
      "20     0.039022          -0.130275  0.018437  0.174880        0.274007  ...   \n",
      "21    -0.000147           0.193071  0.347265 -0.248449       -0.157264  ...   \n",
      "22     0.189366          -0.052919  0.323426  0.274951        0.316579  ...   \n",
      "23    -0.099947           0.156878  0.109832 -0.066113        0.167670  ...   \n",
      "24     0.029792          -0.102190 -0.033018  0.171410        0.188948  ...   \n",
      "25     0.101389          -0.103657 -0.132316  0.185841        0.020841  ...   \n",
      "\n",
      "    Ongoing medication  Smart device before bed  Average screen time  \\\n",
      "0            -0.378071                 0.008013             0.188821   \n",
      "1             0.145500                -0.051423            -0.072076   \n",
      "2            -0.193530                 0.110388             0.552105   \n",
      "3             0.172759                 0.262994             0.070689   \n",
      "4            -0.138297                -0.337982            -0.017505   \n",
      "5             0.109186                 0.070689            -0.080664   \n",
      "6             0.256137                 0.371577            -0.007488   \n",
      "7            -0.116288                 0.181227            -0.021845   \n",
      "8            -0.132161                 0.072825            -0.015136   \n",
      "9             0.267651                -0.089698             0.187445   \n",
      "10            0.290830                 0.079829             0.098475   \n",
      "11            0.135276                 0.236813            -0.089674   \n",
      "12           -0.104883                -0.124861             0.026431   \n",
      "13            0.043355                 0.254745            -0.172699   \n",
      "14            0.296959                -0.040813             0.050034   \n",
      "15            0.111940                -0.370182            -0.002389   \n",
      "16            0.162491                -0.041837             0.363926   \n",
      "17           -0.064858                 0.213624             0.178180   \n",
      "18           -0.058887                -0.151059            -0.350543   \n",
      "19            0.159264                -0.185314            -0.164928   \n",
      "20           -0.076674                 0.003578            -0.028872   \n",
      "21           -0.149113                 0.353016            -0.363918   \n",
      "22            0.213736                -0.016095            -0.119522   \n",
      "23           -0.242947                 0.200869             0.198627   \n",
      "24           -0.026784                 0.242611            -0.113700   \n",
      "25            0.399819                 0.046527             0.204069   \n",
      "\n",
      "    Blue-light filter  Discomfort Eye-strain  Redness in eye  \\\n",
      "0            0.098229               0.430851       -0.083819   \n",
      "1           -0.305648              -0.110695        0.055066   \n",
      "2           -0.218465              -0.066590        0.004537   \n",
      "3            0.083369               0.117336        0.032645   \n",
      "4            0.036982              -0.153806        0.232090   \n",
      "5           -0.071090               0.216151       -0.348179   \n",
      "6            0.239942               0.069515       -0.034101   \n",
      "7            0.175927               0.079168        0.237666   \n",
      "8           -0.141168              -0.209986       -0.105111   \n",
      "9            0.112671               0.234396       -0.252222   \n",
      "10          -0.231930               0.013392       -0.067037   \n",
      "11          -0.287669              -0.144309       -0.234463   \n",
      "12           0.296189              -0.129831       -0.489811   \n",
      "13           0.099382               0.204944        0.141849   \n",
      "14          -0.001091               0.298008        0.243281   \n",
      "15           0.054144              -0.118177        0.096927   \n",
      "16           0.342077               0.020424        0.082568   \n",
      "17          -0.316809               0.241752        0.080563   \n",
      "18          -0.291953               0.351199       -0.270036   \n",
      "19          -0.094489               0.062285        0.012388   \n",
      "20           0.218601              -0.113480       -0.371522   \n",
      "21           0.206417              -0.183355        0.068186   \n",
      "22          -0.083581              -0.171925        0.177116   \n",
      "23          -0.252776              -0.231496       -0.053369   \n",
      "24           0.068732              -0.141995        0.032957   \n",
      "25           0.007342              -0.291330       -0.170300   \n",
      "\n",
      "    Itchiness/Irritation in eye  gender_numeric  systolic_bp  diastolic_bp  \n",
      "0                     -0.082793       -0.314889     0.276531     -0.219575  \n",
      "1                     -0.155872       -0.075535     0.230734     -0.281835  \n",
      "2                      0.241330       -0.172163    -0.197752     -0.178445  \n",
      "3                     -0.125176       -0.110968    -0.359698      0.022445  \n",
      "4                     -0.241146        0.166986     0.019674      0.117204  \n",
      "5                     -0.103359        0.032434    -0.053747     -0.042239  \n",
      "6                     -0.243993       -0.008266    -0.277285      0.005617  \n",
      "7                      0.209382        0.405742     0.048669     -0.069031  \n",
      "8                     -0.379102        0.146660    -0.119803     -0.469191  \n",
      "9                     -0.300871        0.129231     0.258403      0.016095  \n",
      "10                     0.039587       -0.264268    -0.167599      0.060873  \n",
      "11                    -0.115543        0.133553     0.150812      0.191261  \n",
      "12                     0.285318        0.024784     0.001119      0.158297  \n",
      "13                     0.110212        0.266337     0.195215      0.141914  \n",
      "14                    -0.118690       -0.132211     0.134313      0.005489  \n",
      "15                    -0.267621       -0.141829    -0.057311      0.264794  \n",
      "16                    -0.101837        0.335798     0.008032     -0.264310  \n",
      "17                     0.055387        0.028143     0.254016      0.369510  \n",
      "18                     0.085720        0.257585    -0.201576     -0.229250  \n",
      "19                     0.226539        0.063018     0.023215     -0.126999  \n",
      "20                    -0.120917       -0.146895     0.096793      0.181975  \n",
      "21                    -0.101690       -0.318480     0.337423     -0.211812  \n",
      "22                     0.137179       -0.136922     0.066934     -0.043515  \n",
      "23                    -0.278806        0.303042     0.096405      0.199549  \n",
      "24                     0.104472        0.011849    -0.244488      0.067510  \n",
      "25                     0.299631        0.083202     0.354044     -0.210550  \n",
      "\n",
      "[26 rows x 26 columns]\n",
      "\n",
      "Explained Variance Ratio:\n",
      "[0.04097735 0.04088183 0.04038923 0.0402623  0.04007362 0.03986238\n",
      " 0.0397041  0.03931853 0.03927086 0.03905757 0.03886837 0.03878714\n",
      " 0.03855037 0.03837434 0.03828352 0.03795818 0.03769714 0.03766937\n",
      " 0.03739427 0.03735672 0.03727245 0.03701319 0.03675837 0.03644034\n",
      " 0.03619628 0.0355822 ]\n",
      "\n",
      "First Principal Component Loadings (sorted):\n",
      "Discomfort Eye-strain          0.430851\n",
      "Ongoing medication             0.378071\n",
      "gender_numeric                 0.314889\n",
      "Height                         0.294472\n",
      "systolic_bp                    0.276531\n",
      "Medical issue                  0.262025\n",
      "Wake up during night           0.259996\n",
      "diastolic_bp                   0.219575\n",
      "Feel sleepy during day         0.198378\n",
      "Average screen time            0.188821\n",
      "Weight                         0.162038\n",
      "Stress level                   0.158144\n",
      "Alcohol consumption            0.136917\n",
      "Daily steps                    0.106892\n",
      "Blue-light filter              0.098229\n",
      "Smoking                        0.094278\n",
      "Redness in eye                 0.083819\n",
      "Itchiness/Irritation in eye    0.082793\n",
      "Sleep duration                 0.082362\n",
      "Sleep disorder                 0.076051\n",
      "Heart rate                     0.075822\n",
      "Physical activity              0.073521\n",
      "Sleep quality                  0.068077\n",
      "Age                            0.066200\n",
      "Caffeine consumption           0.054391\n",
      "Smart device before bed        0.008013\n",
      "Name: 0, dtype: float64\n"
     ]
    }
   ],
   "execution_count": 11
  },
  {
   "metadata": {},
   "cell_type": "markdown",
   "source": [
    "#### Scree plot\n",
    "Step-wise scree plot, denoting that PCs are incremental in explaning variation."
   ],
   "id": "3cde3d4709373757"
  },
  {
   "metadata": {
    "ExecuteTime": {
     "end_time": "2025-03-08T23:16:11.255061Z",
     "start_time": "2025-03-08T23:16:11.113012Z"
    }
   },
   "cell_type": "code",
   "source": [
    "import matplotlib.pyplot as plt\n",
    "\n",
    "# Number of components, take the first few\n",
    "num_components = 8\n",
    "\n",
    "# Allows us to change number of components as needed later\n",
    "explained_variance = pca.explained_variance_ratio_[:num_components]\n",
    "\n",
    "# Create a scree plot: Bar chart for individual explained variance\n",
    "plt.figure(figsize=(8, 6))\n",
    "plt.bar(range(1, num_components + 1), explained_variance, \n",
    "        alpha=0.5, align='center', label='Individual explained variance')\n",
    "\n",
    "# Plot cumulative explained variance\n",
    "cumulative_variance = explained_variance.cumsum()\n",
    "plt.step(range(1, num_components + 1), cumulative_variance, where='mid', \n",
    "         color='red', label='Cumulative explained variance')\n",
    "\n",
    "plt.xlabel('Principal Component')\n",
    "plt.ylabel('Explained Variance Ratio')\n",
    "plt.title('Scree Plot')\n",
    "plt.legend(loc='best')\n",
    "plt.xticks(range(1, num_components + 1))\n",
    "plt.show()"
   ],
   "id": "9fec00bee9fcf363",
   "outputs": [
    {
     "data": {
      "text/plain": [
       "<Figure size 800x600 with 1 Axes>"
      ],
      "image/png": "[encoded data removed]"
     },
     "metadata": {},
     "output_type": "display_data"
    }
   ],
   "execution_count": 18
  },
  {
   "metadata": {},
   "cell_type": "markdown",
   "source": [
    "### Relaxed LASSO\n",
    "Since PCA did not work well to help us narrow down the important features for further analysis, we will perform relaxed LASSO to identify the most important features. Relaxed LASSO blends LASSO estimates with the OLS estimates, giving a convex combination of the two.\n",
    "More information: https://glmnet.stanford.edu/articles/relax.html"
   ],
   "id": "c7558d1da45f5b0a"
  },
  {
   "metadata": {
    "ExecuteTime": {
     "end_time": "2025-03-13T17:49:27.576183Z",
     "start_time": "2025-03-13T17:49:22.108998Z"
    }
   },
   "cell_type": "code",
   "source": [
    "import pandas as pd\n",
    "import numpy as np\n",
    "from sklearn.linear_model import LassoCV, LinearRegression\n",
    "from sklearn.preprocessing import StandardScaler\n",
    "from sklearn.model_selection import train_test_split\n",
    "from sklearn.metrics import mean_squared_error\n",
    "\n",
    "np.random.seed(42)\n"
   ],
   "id": "da9f4bb63d4d679a",
   "outputs": [],
   "execution_count": 1
  },
  {
   "metadata": {
    "ExecuteTime": {
     "end_time": "2025-03-13T17:49:47.800140Z",
     "start_time": "2025-03-13T17:49:47.651001Z"
    }
   },
   "cell_type": "code",
   "source": [
    "data = pd.read_csv(\"Dry_Eye_Dataset_mod.csv\")\n",
    "\n",
    "# Predictor and response variables\n",
    "X = data.drop(columns=[\"Dry Eye Disease\"])\n",
    "y = data[\"Dry Eye Disease\"]\n",
    "\n",
    "# Standardize\n",
    "scaler = StandardScaler()\n",
    "X_scaled = scaler.fit_transform(X)\n",
    "\n",
    "# Split some data for training\n",
    "X_train, X_test, y_train, y_test = train_test_split(X_scaled, y, test_size=0.2, random_state=42)"
   ],
   "id": "6e12e4ede6f3d3e8",
   "outputs": [],
   "execution_count": 2
  },
  {
   "metadata": {
    "ExecuteTime": {
     "end_time": "2025-03-13T17:50:16.271627Z",
     "start_time": "2025-03-13T17:50:16.092440Z"
    }
   },
   "cell_type": "code",
   "source": [
    "# Fit LASSO with CV\n",
    "lasso_cv = LassoCV(cv=5, random_state=42)\n",
    "lasso_cv.fit(X_train, y_train)"
   ],
   "id": "66ec0c4cc9b86ba0",
   "outputs": [
    {
     "data": {
      "text/plain": [
       "LassoCV(cv=5, random_state=42)"
      ],
      "text/html": [
       "<style>#sk-container-id-2 {color: black;}#sk-container-id-2 pre{padding: 0;}#sk-container-id-2 div.sk-toggleable {background-color: white;}#sk-container-id-2 label.sk-toggleable__label {cursor: pointer;display: block;width: 100%;margin-bottom: 0;padding: 0.3em;box-sizing: border-box;text-align: center;}#sk-container-id-2 label.sk-toggleable__label-arrow:before {content: \"▸\";float: left;margin-right: 0.25em;color: #696969;}#sk-container-id-2 label.sk-toggleable__label-arrow:hover:before {color: black;}#sk-container-id-2 div.sk-estimator:hover label.sk-toggleable__label-arrow:before {color: black;}#sk-container-id-2 div.sk-toggleable__content {max-height: 0;max-width: 0;overflow: hidden;text-align: left;background-color: #f0f8ff;}#sk-container-id-2 div.sk-toggleable__content pre {margin: 0.2em;color: black;border-radius: 0.25em;background-color: #f0f8ff;}#sk-container-id-2 input.sk-toggleable__control:checked~div.sk-toggleable__content {max-height: 200px;max-width: 100%;overflow: auto;}#sk-container-id-2 input.sk-toggleable__control:checked~label.sk-toggleable__label-arrow:before {content: \"▾\";}#sk-container-id-2 div.sk-estimator input.sk-toggleable__control:checked~label.sk-toggleable__label {background-color: #d4ebff;}#sk-container-id-2 div.sk-label input.sk-toggleable__control:checked~label.sk-toggleable__label {background-color: #d4ebff;}#sk-container-id-2 input.sk-hidden--visually {border: 0;clip: rect(1px 1px 1px 1px);clip: rect(1px, 1px, 1px, 1px);height: 1px;margin: -1px;overflow: hidden;padding: 0;position: absolute;width: 1px;}#sk-container-id-2 div.sk-estimator {font-family: monospace;background-color: #f0f8ff;border: 1px dotted black;border-radius: 0.25em;box-sizing: border-box;margin-bottom: 0.5em;}#sk-container-id-2 div.sk-estimator:hover {background-color: #d4ebff;}#sk-container-id-2 div.sk-parallel-item::after {content: \"\";width: 100%;border-bottom: 1px solid gray;flex-grow: 1;}#sk-container-id-2 div.sk-label:hover label.sk-toggleable__label {background-color: #d4ebff;}#sk-container-id-2 div.sk-serial::before {content: \"\";position: absolute;border-left: 1px solid gray;box-sizing: border-box;top: 0;bottom: 0;left: 50%;z-index: 0;}#sk-container-id-2 div.sk-serial {display: flex;flex-direction: column;align-items: center;background-color: white;padding-right: 0.2em;padding-left: 0.2em;position: relative;}#sk-container-id-2 div.sk-item {position: relative;z-index: 1;}#sk-container-id-2 div.sk-parallel {display: flex;align-items: stretch;justify-content: center;background-color: white;position: relative;}#sk-container-id-2 div.sk-item::before, #sk-container-id-2 div.sk-parallel-item::before {content: \"\";position: absolute;border-left: 1px solid gray;box-sizing: border-box;top: 0;bottom: 0;left: 50%;z-index: -1;}#sk-container-id-2 div.sk-parallel-item {display: flex;flex-direction: column;z-index: 1;position: relative;background-color: white;}#sk-container-id-2 div.sk-parallel-item:first-child::after {align-self: flex-end;width: 50%;}#sk-container-id-2 div.sk-parallel-item:last-child::after {align-self: flex-start;width: 50%;}#sk-container-id-2 div.sk-parallel-item:only-child::after {width: 0;}#sk-container-id-2 div.sk-dashed-wrapped {border: 1px dashed gray;margin: 0 0.4em 0.5em 0.4em;box-sizing: border-box;padding-bottom: 0.4em;background-color: white;}#sk-container-id-2 div.sk-label label {font-family: monospace;font-weight: bold;display: inline-block;line-height: 1.2em;}#sk-container-id-2 div.sk-label-container {text-align: center;}#sk-container-id-2 div.sk-container {/* jupyter's `normalize.less` sets `[hidden] { display: none; }` but bootstrap.min.css set `[hidden] { display: none !important; }` so we also need the `!important` here to be able to override the default hidden behavior on the sphinx rendered scikit-learn.org. See: https://github.com/scikit-learn/scikit-learn/issues/21755 */display: inline-block !important;position: relative;}#sk-container-id-2 div.sk-text-repr-fallback {display: none;}</style><div id=\"sk-container-id-2\" class=\"sk-top-container\"><div class=\"sk-text-repr-fallback\"><pre>LassoCV(cv=5, random_state=42)</pre><b>In a Jupyter environment, please rerun this cell to show the HTML representation or trust the notebook. <br />On GitHub, the HTML representation is unable to render, please try loading this page with nbviewer.org.</b></div><div class=\"sk-container\" hidden><div class=\"sk-item\"><div class=\"sk-estimator sk-toggleable\"><input class=\"sk-toggleable__control sk-hidden--visually\" id=\"sk-estimator-id-2\" type=\"checkbox\" checked><label for=\"sk-estimator-id-2\" class=\"sk-toggleable__label sk-toggleable__label-arrow\">LassoCV</label><div class=\"sk-toggleable__content\"><pre>LassoCV(cv=5, random_state=42)</pre></div></div></div></div></div>"
      ]
     },
     "execution_count": 4,
     "metadata": {},
     "output_type": "execute_result"
    }
   ],
   "execution_count": 4
  },
  {
   "metadata": {
    "ExecuteTime": {
     "end_time": "2025-03-13T17:50:23.414837Z",
     "start_time": "2025-03-13T17:50:23.408965Z"
    }
   },
   "cell_type": "code",
   "source": [
    "lasso_coefs = lasso_cv.coef_\n",
    "selected_features_idx = np.where(lasso_coefs != 0)[0]\n",
    "print(\"Features selected by LASSO:\")\n",
    "print(np.array(X.columns)[selected_features_idx])"
   ],
   "id": "21e3105021f93185",
   "outputs": [
    {
     "name": "stdout",
     "output_type": "stream",
     "text": [
      "Features selected by LASSO:\n",
      "['Gender' 'Sleep duration' 'Sleep quality' 'Stress level' 'Heart rate'\n",
      " 'Daily steps' 'Height' 'Weight' 'Caffeine consumption'\n",
      " 'Alcohol consumption' 'Ongoing medication' 'Smart device before bed'\n",
      " 'Average screen time' 'Blue-light filter' 'Discomfort Eye-strain'\n",
      " 'Redness in eye' 'Itchiness/Irritation in eye' 'diastolic_bp']\n"
     ]
    }
   ],
   "execution_count": 5
  },
  {
   "metadata": {
    "ExecuteTime": {
     "end_time": "2025-03-13T17:50:26.395773Z",
     "start_time": "2025-03-13T17:50:26.349125Z"
    }
   },
   "cell_type": "code",
   "source": [
    "# Fit OLS model on features selected by LASSO and keep features not shrunk to 0\n",
    "if len(selected_features_idx) > 0:\n",
    "    X_train_selected = X_train[:, selected_features_idx]\n",
    "    X_test_selected = X_test[:, selected_features_idx]\n",
    "    \n",
    "    ols = LinearRegression()\n",
    "    ols.fit(X_train_selected, y_train)\n",
    "    \n",
    "    ols_coefs = ols.coef_\n",
    "else:\n",
    "    raise ValueError(\"No features were selected by LASSO.\")"
   ],
   "id": "a88420aa8b9b901a",
   "outputs": [],
   "execution_count": 6
  },
  {
   "metadata": {
    "ExecuteTime": {
     "end_time": "2025-03-13T17:50:29.776093Z",
     "start_time": "2025-03-13T17:50:29.765319Z"
    }
   },
   "cell_type": "code",
   "source": [
    "# Predict relaxed LASSO estimator\n",
    "gamma = 0.5\n",
    "relaxed_coefs = gamma * lasso_cv.coef_[selected_features_idx] + (1 - gamma) * ols_coefs\n",
    "\n",
    "# Predict on the test set using the relaxed model:\n",
    "y_pred_relaxed = gamma * lasso_cv.predict(X_test) + (1 - gamma) * ols.predict(X_test_selected)\n",
    "mse_relaxed = mean_squared_error(y_test, y_pred_relaxed)\n",
    "print(f\"Relaxed LASSO Mean Squared Error with gamma={gamma}: {mse_relaxed:.4f}\")\n"
   ],
   "id": "458b95f568d8d76e",
   "outputs": [
    {
     "name": "stdout",
     "output_type": "stream",
     "text": [
      "Relaxed LASSO Mean Squared Error with gamma=0.5: 0.2163\n"
     ]
    }
   ],
   "execution_count": 7
  },
  {
   "metadata": {
    "ExecuteTime": {
     "end_time": "2025-03-13T17:50:36.068480Z",
     "start_time": "2025-03-13T17:50:36.053435Z"
    }
   },
   "cell_type": "code",
   "source": [
    "# Fine-tuning with CV\n",
    "gammas = np.linspace(0, 1, 11)  # Try gamma from 0 to 1 in increments of 0.1\n",
    "mse_scores = []\n",
    "\n",
    "for g in gammas:\n",
    "    y_pred = g * lasso_cv.predict(X_test) + (1 - g) * ols.predict(X_test_selected)\n",
    "    mse = mean_squared_error(y_test, y_pred)\n",
    "    mse_scores.append(mse)\n",
    "    print(f\"Gamma: {g:.2f}, MSE: {mse:.4f}\")\n",
    "\n",
    "# Identify the optimal gamma\n",
    "optimal_gamma = gammas[np.argmin(mse_scores)]\n",
    "print(\"Optimal gamma found:\", optimal_gamma)"
   ],
   "id": "2a5d4fd39570656c",
   "outputs": [
    {
     "name": "stdout",
     "output_type": "stream",
     "text": [
      "Gamma: 0.00, MSE: 0.2168\n",
      "Gamma: 0.10, MSE: 0.2167\n",
      "Gamma: 0.20, MSE: 0.2166\n",
      "Gamma: 0.30, MSE: 0.2165\n",
      "Gamma: 0.40, MSE: 0.2164\n",
      "Gamma: 0.50, MSE: 0.2163\n",
      "Gamma: 0.60, MSE: 0.2162\n",
      "Gamma: 0.70, MSE: 0.2161\n",
      "Gamma: 0.80, MSE: 0.2161\n",
      "Gamma: 0.90, MSE: 0.2160\n",
      "Gamma: 1.00, MSE: 0.2159\n",
      "Optimal gamma found: 1.0\n"
     ]
    }
   ],
   "execution_count": 8
  },
  {
   "metadata": {},
   "cell_type": "markdown",
   "source": "Optimal gamma of 1.0 means that standard LASSO is sufficient.",
   "id": "d96f1e09790993e1"
  },
  {
   "metadata": {
    "ExecuteTime": {
     "end_time": "2025-03-13T17:50:44.016309Z",
     "start_time": "2025-03-13T17:50:44.004550Z"
    }
   },
   "cell_type": "code",
   "source": [
    "final_y_pred = optimal_gamma * lasso_cv.predict(X_test) + (1 - optimal_gamma) * ols.predict(X_test_selected)\n",
    "final_mse = mean_squared_error(y_test, final_y_pred)\n",
    "print(\"Final Relaxed LASSO MSE:\", final_mse)\n",
    "\n",
    "final_relaxed_coefs = optimal_gamma * lasso_cv.coef_[selected_features_idx] + (1 - optimal_gamma) * ols_coefs\n",
    "selected_feature_names = np.array(X.columns)[selected_features_idx]\n",
    "coef_table = pd.DataFrame({\n",
    "    \"Feature\": selected_feature_names,\n",
    "    \"LASSO Coef\": lasso_cv.coef_[selected_features_idx],\n",
    "    \"OLS Coef\": ols_coefs,\n",
    "    \"Relaxed Coef\": final_relaxed_coefs\n",
    "})\n",
    "print(\"\\nCoefficient estimates for selected features:\")\n",
    "print(coef_table)"
   ],
   "id": "d6afe53122af8efe",
   "outputs": [
    {
     "name": "stdout",
     "output_type": "stream",
     "text": [
      "Final Relaxed LASSO MSE: 0.21589030154768202\n",
      "\n",
      "Coefficient estimates for selected features:\n",
      "                        Feature  LASSO Coef  OLS Coef  Relaxed Coef\n",
      "0                        Gender   -0.006479 -0.008851     -0.006479\n",
      "1                Sleep duration    0.001272  0.003659      0.001272\n",
      "2                 Sleep quality   -0.001540 -0.004090     -0.001540\n",
      "3                  Stress level    0.004808  0.007273      0.004808\n",
      "4                    Heart rate   -0.003277 -0.005853     -0.003277\n",
      "5                   Daily steps    0.003283  0.005713      0.003283\n",
      "6                        Height   -0.002278 -0.004776     -0.002278\n",
      "7                        Weight   -0.000520 -0.003181     -0.000520\n",
      "8          Caffeine consumption    0.000605  0.003075      0.000605\n",
      "9           Alcohol consumption    0.004591  0.007248      0.004591\n",
      "10           Ongoing medication   -0.001092 -0.003412     -0.001092\n",
      "11      Smart device before bed   -0.005434 -0.007973     -0.005434\n",
      "12          Average screen time    0.009132  0.011682      0.009132\n",
      "13            Blue-light filter    0.001513  0.003998      0.001513\n",
      "14        Discomfort Eye-strain    0.051504  0.053980      0.051504\n",
      "15               Redness in eye    0.048177  0.050652      0.048177\n",
      "16  Itchiness/Irritation in eye    0.048037  0.050547      0.048037\n",
      "17                 diastolic_bp   -0.000422 -0.002954     -0.000422\n"
     ]
    }
   ],
   "execution_count": 9
  },
  {
   "metadata": {},
   "cell_type": "markdown",
   "source": "Backward elimination on remaining variables.",
   "id": "5c058b2b16af50c9"
  },
  {
   "metadata": {
    "ExecuteTime": {
     "end_time": "2025-03-13T18:29:28.635142Z",
     "start_time": "2025-03-13T18:29:25.850944Z"
    }
   },
   "cell_type": "code",
   "source": [
    "import pandas as pd\n",
    "import statsmodels.api as sm\n",
    "\n",
    "def backward_elimination(X, y, significance_level=0.05):\n",
    "    features = list(X.columns)\n",
    "    while True:\n",
    "        # Add a constant for the intercept term\n",
    "        X_model = sm.add_constant(X[features])\n",
    "        model = sm.OLS(y, X_model).fit()\n",
    "        # Exclude the intercept from p-value consideration\n",
    "        pvalues = model.pvalues.iloc[1:]\n",
    "        max_p = pvalues.max()\n",
    "        if max_p > significance_level:\n",
    "            worst_feature = pvalues.idxmax()\n",
    "            print(f\"Eliminating '{worst_feature}' with p-value {max_p:.4f}\")\n",
    "            features.remove(worst_feature)\n",
    "        else:\n",
    "            break\n",
    "    return features, model"
   ],
   "id": "25e74f9bece20924",
   "outputs": [],
   "execution_count": 15
  },
  {
   "metadata": {
    "ExecuteTime": {
     "end_time": "2025-03-13T18:29:32.296951Z",
     "start_time": "2025-03-13T18:29:32.061451Z"
    }
   },
   "cell_type": "code",
   "source": [
    "selected_feature_names = np.array(X.columns)[selected_features_idx]\n",
    "X_lasso_selected = pd.DataFrame(X_scaled, columns=X.columns)[selected_feature_names]\n",
    "\n",
    "final_features, final_model = backward_elimination(X_lasso_selected, y, significance_level=0.05)\n",
    "print(\"Final features after backward elimination on LASSO-selected variables:\")\n",
    "print(final_features)\n",
    "print(\"\\nFinal model summary:\")\n",
    "print(final_model.summary())"
   ],
   "id": "c8e0ca46c08cc69e",
   "outputs": [
    {
     "name": "stdout",
     "output_type": "stream",
     "text": [
      "Eliminating 'Ongoing medication' with p-value 0.8431\n",
      "Eliminating 'Sleep duration' with p-value 0.8242\n",
      "Eliminating 'Weight' with p-value 0.7903\n",
      "Eliminating 'Caffeine consumption' with p-value 0.7804\n",
      "Eliminating 'Blue-light filter' with p-value 0.5665\n",
      "Eliminating 'Heart rate' with p-value 0.5624\n",
      "Eliminating 'Stress level' with p-value 0.5584\n",
      "Eliminating 'Sleep quality' with p-value 0.4329\n",
      "Eliminating 'diastolic_bp' with p-value 0.4204\n",
      "Eliminating 'Daily steps' with p-value 0.3520\n",
      "Eliminating 'Height' with p-value 0.3384\n",
      "Eliminating 'Alcohol consumption' with p-value 0.0570\n",
      "Final features after backward elimination on LASSO-selected variables:\n",
      "['Gender', 'Smart device before bed', 'Average screen time', 'Discomfort Eye-strain', 'Redness in eye', 'Itchiness/Irritation in eye']\n",
      "\n",
      "Final model summary:\n",
      "                            OLS Regression Results                            \n",
      "==============================================================================\n",
      "Dep. Variable:        Dry Eye Disease   R-squared:                       0.034\n",
      "Model:                            OLS   Adj. R-squared:                  0.034\n",
      "Method:                 Least Squares   F-statistic:                     117.3\n",
      "Date:                Thu, 13 Mar 2025   Prob (F-statistic):          3.69e-146\n",
      "Time:                        14:29:32   Log-Likelihood:                -13202.\n",
      "No. Observations:               20000   AIC:                         2.642e+04\n",
      "Df Residuals:                   19993   BIC:                         2.647e+04\n",
      "Df Model:                           6                                         \n",
      "Covariance Type:            nonrobust                                         \n",
      "===============================================================================================\n",
      "                                  coef    std err          t      P>|t|      [0.025      0.975]\n",
      "-----------------------------------------------------------------------------------------------\n",
      "const                           0.6518      0.003    196.853      0.000       0.645       0.658\n",
      "Gender                         -0.0074      0.003     -2.242      0.025      -0.014      -0.001\n",
      "Smart device before bed        -0.0070      0.003     -2.103      0.036      -0.013      -0.000\n",
      "Average screen time             0.0098      0.003      2.946      0.003       0.003       0.016\n",
      "Discomfort Eye-strain           0.0526      0.003     15.891      0.000       0.046       0.059\n",
      "Redness in eye                  0.0495      0.003     14.957      0.000       0.043       0.056\n",
      "Itchiness/Irritation in eye     0.0480      0.003     14.493      0.000       0.042       0.054\n",
      "==============================================================================\n",
      "Omnibus:                   136796.493   Durbin-Watson:                   2.005\n",
      "Prob(Omnibus):                  0.000   Jarque-Bera (JB):             3082.514\n",
      "Skew:                          -0.624   Prob(JB):                         0.00\n",
      "Kurtosis:                       1.537   Cond. No.                         1.03\n",
      "==============================================================================\n",
      "\n",
      "Notes:\n",
      "[1] Standard Errors assume that the covariance matrix of the errors is correctly specified.\n"
     ]
    }
   ],
   "execution_count": 16
  }
 ],
 "metadata": {
  "kernelspec": {
   "display_name": "Python 3",
   "language": "python",
   "name": "python3"
  },
  "language_info": {
   "codemirror_mode": {
    "name": "ipython",
    "version": 2
   },
   "file_extension": ".py",
   "mimetype": "text/x-python",
   "name": "python",
   "nbconvert_exporter": "python",
   "pygments_lexer": "ipython2",
   "version": "2.7.6"
  }
 },
 "nbformat": 4,
 "nbformat_minor": 5
}
